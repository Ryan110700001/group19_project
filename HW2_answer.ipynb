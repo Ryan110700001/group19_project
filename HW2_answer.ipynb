{
 "cells": [
  {
   "cell_type": "markdown",
   "id": "591c5352",
   "metadata": {},
   "source": [
    "Before you turn this problem in, make sure everything runs as expected. First, **restart the kernel** (in the menubar, select Kernel$\\rightarrow$Restart) and then **run all cells** (in the menubar, select Cell$\\rightarrow$Run All).\n",
    "\n",
    "Make sure you fill in any place that says `YOUR CODE HERE` or \"YOUR ANSWER HERE\", as well as your name and collaborators below:"
   ]
  },
  {
   "cell_type": "code",
   "execution_count": null,
   "id": "2a3fcae8",
   "metadata": {},
   "outputs": [],
   "source": [
    "NAME = \"\"\n",
    "COLLABORATORS = \"\""
   ]
  },
  {
   "cell_type": "markdown",
   "id": "71150eec",
   "metadata": {},
   "source": [
    "---"
   ]
  },
  {
   "cell_type": "markdown",
   "id": "8e4ce995",
   "metadata": {
    "deletable": false,
    "editable": false,
    "id": "cdcac1bd",
    "nbgrader": {
     "cell_type": "markdown",
     "checksum": "9f3499d11c09ea611c1031fe012bbb91",
     "grade": false,
     "grade_id": "DP_intro",
     "locked": true,
     "schema_version": 3,
     "solution": false,
     "task": false
    }
   },
   "source": [
    "# Dynamic Programming - Key Concept\n",
    "<h4>A problem that can be solved efficiently by DP often has the following properties:</h4>\n",
    "<ul>\n",
    "<li>Optimal Substructure(allows recursion): </li>\n",
    "<ul>\n",
    "Solution to the problem contains optimal solutions to subproblems.\n",
    "</ul>\n",
    "</ul>\n",
    "<ul>\n",
    "<li>Overlapping Subproblems(allows speed up): </li>\n",
    "<ul>\n",
    "A recursive algorithm revisits the same subproblem over and over again.\n",
    "</ul>\n",
    "</ul>\n"
   ]
  },
  {
   "cell_type": "markdown",
   "id": "730a3b36",
   "metadata": {
    "deletable": false,
    "editable": false,
    "id": "f2dbe7f1",
    "nbgrader": {
     "cell_type": "markdown",
     "checksum": "d719036c31e845310de140f753429313",
     "grade": false,
     "grade_id": "HA_intro",
     "locked": true,
     "schema_version": 3,
     "solution": false,
     "task": false
    }
   },
   "source": [
    "###  <h2>Exercise 3: Hamming Distance(20 points) [4pts/per test (2 hidden tests)]<h2>\n",
    "<h4>In information theory, the Hamming Distance between two sequences of equal length is the number of positions at which the corresponding symbols are different. </h4>\n",
    "<h4>Given 2 different sequences, find out the Hamming Distance between 2 sequences. </h4>\n",
    "\n",
    "<h4> Example: Input sequences \"ERROR\" and \"MINOR\" </h4>\n",
    "<ul>\n",
    "<li>Output: 3 (<b>ERR</b>OR and <b>MIN</b>OR)</li>\n",
    "</ul>\n",
    "<h4> Example: Input sequences \"ABBABA\" and \"ABAAAA\" </h4>\n",
    "<ul>\n",
    "<li>Output: 2 (AB<b>B</b>A<b>B</b>A and AB<b>A</b>A<b>A</b>A)</li>\n",
    "</ul>"
   ]
  },
  {
   "cell_type": "code",
   "execution_count": null,
   "id": "1ce6f4f9",
   "metadata": {
    "deletable": false,
    "id": "45fd4a4e",
    "nbgrader": {
     "cell_type": "code",
     "checksum": "abacdbe0d021735b40c7d9fd658718fd",
     "grade": false,
     "grade_id": "HA_question",
     "locked": false,
     "schema_version": 3,
     "solution": true,
     "task": false
    }
   },
   "outputs": [],
   "source": [
    "def hamming_distance(seq_1, seq_2):\n",
    "    '''\n",
    "    hamming_distance():\n",
    "    Input argument:\n",
    "        seq_1, seq_2: Tow input sequences (type: str)\n",
    "    Return: \n",
    "        the length of hamming distance between seq_1 into seq_2\n",
    "    '''\n",
    "    count = 0\n",
    "    # YOUR CODE HERE\n",
    "    raise NotImplementedError()\n",
    "    return count"
   ]
  },
  {
   "cell_type": "code",
   "execution_count": null,
   "id": "b239d20c",
   "metadata": {
    "deletable": false,
    "editable": false,
    "id": "8e538aab",
    "nbgrader": {
     "cell_type": "code",
     "checksum": "db24b2dd1a65126a529d3a6a369cc52f",
     "grade": true,
     "grade_id": "HA_answer1",
     "locked": true,
     "points": 4,
     "schema_version": 3,
     "solution": false,
     "task": false
    }
   },
   "outputs": [],
   "source": [
    "seq_X = \"KATHRIN\"\n",
    "seq_Y = \"KERSTIN\"\n",
    "assert hamming_distance(seq_X , seq_Y) == 4"
   ]
  },
  {
   "cell_type": "code",
   "execution_count": null,
   "id": "4cb73363",
   "metadata": {
    "deletable": false,
    "editable": false,
    "id": "37417121",
    "nbgrader": {
     "cell_type": "code",
     "checksum": "70c90db66d5dcd685a30a69a1404f31c",
     "grade": true,
     "grade_id": "HA_answer2",
     "locked": true,
     "points": 4,
     "schema_version": 3,
     "solution": false,
     "task": false
    }
   },
   "outputs": [],
   "source": [
    "seq_X = \"1011101\"\n",
    "seq_Y = \"1001001\"\n",
    "assert hamming_distance(seq_X , seq_Y) == 2"
   ]
  },
  {
   "cell_type": "code",
   "execution_count": null,
   "id": "17b23bd4",
   "metadata": {
    "deletable": false,
    "editable": false,
    "id": "1742df52",
    "nbgrader": {
     "cell_type": "code",
     "checksum": "fcd5d6a2924e491217b97dcc5d977322",
     "grade": true,
     "grade_id": "HA_answer3",
     "locked": true,
     "points": 4,
     "schema_version": 3,
     "solution": false,
     "task": false
    }
   },
   "outputs": [],
   "source": [
    "seq_X = \"011010100101011\"\n",
    "seq_Y = \"010110110101001\"\n",
    "assert hamming_distance(seq_X , seq_Y) == 4"
   ]
  },
  {
   "cell_type": "code",
   "execution_count": null,
   "id": "c2c00ada",
   "metadata": {
    "deletable": false,
    "editable": false,
    "id": "8c44eb1a",
    "nbgrader": {
     "cell_type": "code",
     "checksum": "39b62c2f4b70a00cdbbfd189a21a810a",
     "grade": true,
     "grade_id": "HA_answer4",
     "locked": true,
     "points": 0,
     "schema_version": 3,
     "solution": false,
     "task": false
    }
   },
   "outputs": [],
   "source": [
    "#HIDDEN TEST"
   ]
  },
  {
   "cell_type": "code",
   "execution_count": null,
   "id": "c136d1c1",
   "metadata": {
    "deletable": false,
    "editable": false,
    "id": "059dcc17",
    "nbgrader": {
     "cell_type": "code",
     "checksum": "24b88bfcf017c06c7591256465682876",
     "grade": true,
     "grade_id": "HA_answer5",
     "locked": true,
     "points": 4,
     "schema_version": 3,
     "solution": false,
     "task": false
    }
   },
   "outputs": [],
   "source": [
    "#HIDDEN TEST"
   ]
  },
  {
   "cell_type": "markdown",
   "id": "bb453c2b",
   "metadata": {
    "deletable": false,
    "editable": false,
    "id": "6d5d51f8",
    "nbgrader": {
     "cell_type": "markdown",
     "checksum": "64b2ae9bcc857ac8f27731e38fe41547",
     "grade": false,
     "grade_id": "ma_intro",
     "locked": true,
     "schema_version": 3,
     "solution": false,
     "task": false
    }
   },
   "source": [
    "###  <h2>Exercise 4: Matrix Chain Multiplication(25 points) [5pts/per test (1 hidden test 10pts)]<h2>\n",
    "\n",
    "<h4> Example: Input matrices</h4>\n",
    "<ul>\n",
    "<li>Input: Matrix A row = 10, column = 20</li>\n",
    "<li>Input: Matrix B row = 20, column = 30</li>\n",
    "<li>Input: Matrix C row = 30, column = 40</li>\n",
    "<li>Input: Matrix D row = 40, column = 30</li>\n",
    "</ul>\n",
    "\n",
    "<h4>There are many options to multiply a chain of matrices. Ex: (ABC)D = (AB)(CD) = A(BCD) = A(BC)D = ....</h4>\n",
    "<h4>Cost of ABCD = 10 X 20 X 30 + 10 X 30 X 40 + 10 X 40 X 30 = 30000</h4>\n",
    "<h4>Cost of A(BC)D = 20 X 30 X 40 + 10 X 20 X 40 + 10 X 40 X 30 = 44000</h4>\n",
    "\n",
    "\n",
    "\n",
    "<h4> You need to find the most efficient way to multiply these matrices together</h4>\n",
    "<ul>\n",
    "<li>Output: 30000 (Method: ((AB)C)D )</li>\n",
    "</ul>"
   ]
  },
  {
   "cell_type": "code",
   "execution_count": null,
   "id": "42586c0a",
   "metadata": {
    "deletable": false,
    "id": "c9bc28fa",
    "nbgrader": {
     "cell_type": "code",
     "checksum": "827ea2224361cad62a612da496705963",
     "grade": false,
     "grade_id": "ma_question",
     "locked": false,
     "schema_version": 3,
     "solution": true,
     "task": false
    }
   },
   "outputs": [],
   "source": [
    "import sys\n",
    "def mcm(p, i, j):\n",
    "    '''\n",
    "    mcm(): Matrix Chain Multiplication\n",
    "    Input argument:\n",
    "        p: List that descripts the row and column of all matrices(ex: p = [10, 20, 30, 40, 30] implied 4 input matrices with dimension 10X20, 20X30, 30X40, 40X30) (type: list)\n",
    "        i: Index of p where the subsequence start (type: int)\n",
    "        j: Index of p where the subsequence end (type: int)\n",
    "    \n",
    "    Return: \n",
    "        Minimum cost (type: int)\n",
    "    '''\n",
    "    minimal_execution = sys.maxsize\n",
    "    # YOUR CODE HERE\n",
    "    raise NotImplementedError()\n",
    "    return minimal_execution"
   ]
  },
  {
   "cell_type": "code",
   "execution_count": null,
   "id": "3b664c75",
   "metadata": {
    "deletable": false,
    "editable": false,
    "id": "db87629a",
    "nbgrader": {
     "cell_type": "code",
     "checksum": "44855f47a9411c92cb90a8482ba64c27",
     "grade": true,
     "grade_id": "MA_ans1",
     "locked": true,
     "points": 5,
     "schema_version": 3,
     "solution": false,
     "task": false
    }
   },
   "outputs": [],
   "source": [
    "matrices_1 = [10, 20, 30, 40, 30]\n",
    "assert mcm(matrices_1, 1, len(matrices_1)-1) == 30000"
   ]
  },
  {
   "cell_type": "code",
   "execution_count": null,
   "id": "70ae8e49",
   "metadata": {
    "deletable": false,
    "editable": false,
    "id": "b3c6715f",
    "nbgrader": {
     "cell_type": "code",
     "checksum": "1647414f0e62f72e9d67f9116f61ab43",
     "grade": true,
     "grade_id": "MA_ans2",
     "locked": true,
     "points": 5,
     "schema_version": 3,
     "solution": false,
     "task": false
    }
   },
   "outputs": [],
   "source": [
    "matrices_2 = [40, 20, 10, 20, 20, 40]\n",
    "assert mcm(matrices_2, 1, len(matrices_2)-1) == 36000"
   ]
  },
  {
   "cell_type": "code",
   "execution_count": null,
   "id": "aa80375c",
   "metadata": {
    "deletable": false,
    "editable": false,
    "id": "c37f8aeb",
    "nbgrader": {
     "cell_type": "code",
     "checksum": "4654d3bec0664a944f3e24d10ce1bfd5",
     "grade": true,
     "grade_id": "MA_ans3",
     "locked": true,
     "points": 5,
     "schema_version": 3,
     "solution": false,
     "task": false
    }
   },
   "outputs": [],
   "source": [
    "matrices_3 = [30, 10, 10, 40, 30, 60, 10, 50, 10]\n",
    "assert mcm(matrices_3, 1, len(matrices_3)-1) == 43000"
   ]
  },
  {
   "cell_type": "code",
   "execution_count": null,
   "id": "bed45389",
   "metadata": {
    "deletable": false,
    "editable": false,
    "id": "943d117e",
    "nbgrader": {
     "cell_type": "code",
     "checksum": "f4227f804217bd978f6b7808943f39c1",
     "grade": true,
     "grade_id": "MA_ans4",
     "locked": true,
     "points": 10,
     "schema_version": 3,
     "solution": false,
     "task": false
    }
   },
   "outputs": [],
   "source": [
    "#HIDDEN TEST"
   ]
  },
  {
   "cell_type": "markdown",
   "id": "168d2c37",
   "metadata": {
    "deletable": false,
    "editable": false,
    "id": "f32cfeff",
    "nbgrader": {
     "cell_type": "markdown",
     "checksum": "5d6f967a4e05b47786cb13dcd6e7132d",
     "grade": false,
     "grade_id": "KP_intro",
     "locked": true,
     "schema_version": 3,
     "solution": false,
     "task": false
    }
   },
   "source": [
    "###  <h2>Exercise 5: 0-1 Knapsack Problem(25 points) [5pts/per test (1 hidden test 10pts)] <h2>\n",
    "\n",
    "<h4> Example: There are a variety of items with different weight and value, ad you have a knapsack of capacity W. Try to get the maximum total value in the knapsack</h4>\n",
    "<ul>\n",
    "<li>Input: Item A weight = 10, value = 60</li>\n",
    "<li>Input: Item B weight = 20, value = 100</li>\n",
    "<li>Input: Item C weight = 30, value = 120</li>\n",
    "<li>Input: knapsack W with maximum weight = 50</li>\n",
    "<li>Output: 220 (Method: B + C)</li>\n",
    "</ul>"
   ]
  },
  {
   "cell_type": "code",
   "execution_count": null,
   "id": "86eaa826",
   "metadata": {
    "deletable": false,
    "id": "ca41e2ac",
    "nbgrader": {
     "cell_type": "code",
     "checksum": "770b7c5cd8e440fd53766d6eead3f6b8",
     "grade": false,
     "grade_id": "KP_question",
     "locked": false,
     "schema_version": 3,
     "solution": true,
     "task": false
    }
   },
   "outputs": [],
   "source": [
    "def knapsack_problem(item_weight, item_value, bag_capacity, order):\n",
    "  \n",
    "    '''\n",
    "    knapsack_problem(): 0-1 Knapsack Problem\n",
    "    Input argument:\n",
    "        item_weight: Item's weight (type: list)\n",
    "        item_value: Item's value (type: list)\n",
    "        bag_capacity: Capacity of knapsack (type: int)\n",
    "        order: The item's index that is essencial to the  knapsack # Hint\n",
    "    Return: \n",
    "        Max value (type: int)\n",
    "    '''\n",
    "    # YOUR CODE HERE\n",
    "    raise NotImplementedError()"
   ]
  },
  {
   "cell_type": "code",
   "execution_count": null,
   "id": "59186afa",
   "metadata": {
    "deletable": false,
    "editable": false,
    "id": "969f1c3e",
    "nbgrader": {
     "cell_type": "code",
     "checksum": "636493c7c083c0951eb398784176ed17",
     "grade": true,
     "grade_id": "KP_ans1",
     "locked": true,
     "points": 5,
     "schema_version": 3,
     "solution": false,
     "task": false
    }
   },
   "outputs": [],
   "source": [
    "item_value = [40, 50, 60, 70, 80]\n",
    "item_weight = [5, 10, 15, 20, 25]\n",
    "bag_capacity = 50\n",
    "assert knapsack_problem(item_weight, item_value, bag_capacity, len(item_weight)) == 220"
   ]
  },
  {
   "cell_type": "code",
   "execution_count": null,
   "id": "b4353788",
   "metadata": {
    "deletable": false,
    "editable": false,
    "id": "e55ae9c1",
    "nbgrader": {
     "cell_type": "code",
     "checksum": "84c62a5a084b283e91d363a445448680",
     "grade": true,
     "grade_id": "KP_ans2",
     "locked": true,
     "points": 5,
     "schema_version": 3,
     "solution": false,
     "task": false
    }
   },
   "outputs": [],
   "source": [
    "item_value = [70, 120, 150, 200, 210]\n",
    "item_weight = [10, 20, 30, 50, 70]\n",
    "bag_capacity = 100\n",
    "assert knapsack_problem(item_weight, item_value, bag_capacity, len(item_weight)) == 470"
   ]
  },
  {
   "cell_type": "code",
   "execution_count": null,
   "id": "851b2a14",
   "metadata": {
    "deletable": false,
    "editable": false,
    "id": "5cb9d090",
    "nbgrader": {
     "cell_type": "code",
     "checksum": "8332fb05d3be69308cea1d2487aea0af",
     "grade": true,
     "grade_id": "KP_ans3",
     "locked": true,
     "points": 5,
     "schema_version": 3,
     "solution": false,
     "task": false
    }
   },
   "outputs": [],
   "source": [
    "item_value = [23, 26, 35, 41, 22]\n",
    "item_weight = [24, 28, 30, 36, 20]\n",
    "bag_capacity = 100\n",
    "assert knapsack_problem(item_weight, item_value, bag_capacity, len(item_weight)) == 102"
   ]
  },
  {
   "cell_type": "code",
   "execution_count": null,
   "id": "6be28109",
   "metadata": {
    "colab": {
     "background_save": true
    },
    "deletable": false,
    "editable": false,
    "id": "f9c3d537",
    "nbgrader": {
     "cell_type": "code",
     "checksum": "aa16fdbce9f5dbdeb80b3c2928bfcfc0",
     "grade": true,
     "grade_id": "KP_ans4",
     "locked": true,
     "points": 10,
     "schema_version": 3,
     "solution": false,
     "task": false
    }
   },
   "outputs": [],
   "source": [
    "#HIDDEN TEST"
   ]
  }
 ],
 "metadata": {
  "colab": {
   "name": "",
   "version": ""
  },
  "kernelspec": {
   "display_name": "Python 3",
   "language": "python",
   "name": "python3"
  },
  "language_info": {
   "codemirror_mode": {
    "name": "ipython",
    "version": 3
   },
   "file_extension": ".py",
   "mimetype": "text/x-python",
   "name": "python",
   "nbconvert_exporter": "python",
   "pygments_lexer": "ipython3",
   "version": "3.6.9"
  }
 },
 "nbformat": 4,
 "nbformat_minor": 5
}
