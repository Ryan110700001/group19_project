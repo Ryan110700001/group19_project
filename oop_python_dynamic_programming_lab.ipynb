{
  "cells": [
    {
      "cell_type": "markdown",
      "id": "1ca6105e",
      "metadata": {
        "id": "1ca6105e"
      },
      "source": [
        "Before you turn this problem in, make sure everything runs as expected. First, **restart the kernel** (in the menubar, select Kernel$\\rightarrow$Restart) and then **run all cells** (in the menubar, select Cell$\\rightarrow$Run All).\n",
        "\n",
        "Make sure you fill in any place that says `YOUR CODE HERE` or \"YOUR ANSWER HERE\", as well as your name and collaborators below:"
      ]
    },
    {
      "cell_type": "code",
      "execution_count": 11,
      "id": "91784b44",
      "metadata": {
        "id": "91784b44"
      },
      "outputs": [],
      "source": [
        "NAME = \"311352004童政瑜\"\n",
        "COLLABORATORS = \"\""
      ]
    },
    {
      "cell_type": "markdown",
      "id": "06caeefe",
      "metadata": {
        "deletable": false,
        "editable": false,
        "id": "06caeefe",
        "nbgrader": {
          "cell_type": "markdown",
          "checksum": "ff56de8f84f32aff861ade3a0b315478",
          "grade": false,
          "grade_id": "intro",
          "locked": true,
          "schema_version": 3,
          "solution": false,
          "task": false
        }
      },
      "source": [
        "# Dynamic Programming - Key Concept\n",
        "<h4>A problem that can be solved efficiently by DP often has the following properties:</h4>\n",
        "<ul>\n",
        "<li>Optimal Substructure(allows recursion): </li>\n",
        "<ul>\n",
        "Solution to the problem contains optimal solutions to subproblems.\n",
        "</ul>\n",
        "</ul>\n",
        "<ul>\n",
        "<li>Overlapping Subproblems(allows speed up): </li>\n",
        "<ul>\n",
        "A recursive algorithm revisits the same subproblem over and over again.\n",
        "</ul>\n",
        "</ul>\n"
      ]
    },
    {
      "cell_type": "markdown",
      "id": "0d9db6d9",
      "metadata": {
        "deletable": false,
        "editable": false,
        "id": "0d9db6d9",
        "nbgrader": {
          "cell_type": "markdown",
          "checksum": "6aba4d1446b86656e6b572f46a4e36a1",
          "grade": false,
          "grade_id": "fibonacci_intro",
          "locked": true,
          "schema_version": 3,
          "solution": false,
          "task": false
        }
      },
      "source": [
        "###  <h2>Exercise 1: Longest Common Subsequence <h2>\n",
        "<h4> Find out the longest common subsequence between two input sequences</h4>\n",
        "<h4> Example: Input Sequences “ABCDGH” and “AEDFHR” </h4>\n",
        "<ul>\n",
        "<li>Output: 3 (Sequences “ADH”)</li>\n",
        "</ul>\n",
        "<h4> Example: Input Sequences \"AGGTAB” and “GXTXAYB”  </h4>\n",
        "<ul>\n",
        "<li>Output: 4 (Sequences “GTAB”)</li>\n",
        "</ul>"
      ]
    },
    {
      "cell_type": "code",
      "execution_count": 12,
      "id": "abb8705c",
      "metadata": {
        "deletable": false,
        "editable": false,
        "id": "abb8705c",
        "nbgrader": {
          "cell_type": "code",
          "checksum": "18060c41170c9ebc4abce543bafa9660",
          "grade": false,
          "grade_id": "fibonacci",
          "locked": true,
          "schema_version": 3,
          "solution": false,
          "task": false
        }
      },
      "outputs": [],
      "source": [
        "def longest_common_subsequence(seq_1, seq_2, seq_1_len, seq_2_len):\n",
        "    '''\n",
        "    longest_common_subsequence():\n",
        "    Input argument:\n",
        "        seq_1, seq_2: Two input sequences (type: str)\n",
        "        seq_1_len, seq_2_len: Length of two input sequences (type: int)\n",
        "    Return: \n",
        "        Longest Common Subsequence length between seq_1 and seq_2 (type: int)\n",
        "    '''\n",
        "    # YOUR CODE HERE\n",
        "    DP, rows = [], []\n",
        "\n",
        "    for i in range(seq_1_len+1):\n",
        "        rows = [0] * (seq_2_len+1)\n",
        "        DP.append(rows)\n",
        "    #print(DP)\n",
        "    \n",
        "    #Record length of longest common subsequences\n",
        "    for i in range(1, seq_1_len+1):\n",
        "        for j in range(1, seq_2_len+1):\n",
        "            if seq_1[i-1] == seq_2[j-1]:\n",
        "                DP[i][j] = DP[i-1][j-1] + 1\n",
        "            else:\n",
        "                DP[i][j] = max(DP[i-1][j], DP[i][j-1])\n",
        "            #print(DP)\n",
        "    \n",
        "    return DP[seq_1_len][seq_2_len]\n",
        "    #return DP\n",
        "    #raise NotImplementedError(\"error\")\n",
        "\n",
        "# seq_X = \"AGGTAB\"\n",
        "# seq_Y = \"GXTXAYB\"\n",
        "# longest_common_subsequence(seq_X , seq_Y, len(seq_X), len(seq_Y))"
      ]
    },
    {
      "cell_type": "code",
      "execution_count": 13,
      "id": "CqKNPnRhs_hN",
      "metadata": {
        "id": "CqKNPnRhs_hN"
      },
      "outputs": [],
      "source": [
        "seq_X = \"AGGTAB\"\n",
        "seq_Y = \"GXTXAYB\""
      ]
    },
    {
      "cell_type": "code",
      "execution_count": 14,
      "id": "PKuUFm93tJLE",
      "metadata": {
        "id": "PKuUFm93tJLE"
      },
      "outputs": [],
      "source": [
        "assert longest_common_subsequence(seq_X , seq_Y, len(seq_X), len(seq_Y)) == 4"
      ]
    },
    {
      "cell_type": "code",
      "execution_count": 15,
      "id": "8959c31b",
      "metadata": {},
      "outputs": [],
      "source": [
        "#Further Testing\n",
        "test_seq_X = \"ABCDGH\"\n",
        "test_seq_Y = \"AEDFHR\""
      ]
    },
    {
      "cell_type": "code",
      "execution_count": 16,
      "id": "4bb82892",
      "metadata": {},
      "outputs": [],
      "source": [
        "assert longest_common_subsequence(test_seq_X, test_seq_Y, len(test_seq_X), len(test_seq_Y)) == 3"
      ]
    },
    {
      "cell_type": "markdown",
      "id": "K-_G91CtIAvm",
      "metadata": {
        "id": "K-_G91CtIAvm"
      },
      "source": [
        "###  <h2>Exercise 2: Levenshtein Distance <h2>\n",
        "<h4>Given 2 different sequences, and there are three ways to edit first sequence:</h4>\n",
        "<ul>\n",
        "<li>Insert a charactor (\"SIP\" -> \"SHIP\")</li>\n",
        "</ul>\n",
        "<ul>\n",
        "<li>Remove a charactor (\"SHIP\" -> \"HIP\")</li>\n",
        "</ul>\n",
        "<ul>\n",
        "<li>Replace a charactor (\"CAN\" -> \"BAN\")</li>\n",
        "</ul>\n",
        "<h4> Find out the minimum operations required to convert first sequence into second one</h4>\n",
        "\n",
        "<h4> Example: Input sequences \"GOAT\" and \"GET\" </h4>\n",
        "<ul>\n",
        "<li>Output: 2 (Remove \"O\" + Replace \"A\" to \"E\")</li>\n",
        "</ul>\n",
        "<h4> Example: Input sequences \"CAT\" and \"CUT\" </h4>\n",
        "<ul>\n",
        "<li>Output: 1 (Replace \"A\" to \"U\")</li>\n",
        "</ul>"
      ]
    },
    {
      "cell_type": "code",
      "execution_count": 17,
      "id": "onEvPIIBKmAQ",
      "metadata": {
        "id": "onEvPIIBKmAQ"
      },
      "outputs": [
        {
          "data": {
            "text/plain": [
              "3"
            ]
          },
          "execution_count": 17,
          "metadata": {},
          "output_type": "execute_result"
        }
      ],
      "source": [
        "def levenshtein_distance(seq_1, seq_2, seq_1_len, seq_2_len):\n",
        "    '''\n",
        "    levenshtein_distance():\n",
        "    Input argument:\n",
        "        seq_1, seq_2: Tow input sequences (type: str)\n",
        "        seq_1_len, seq_2_len: Length of two input sequences (type: int)\n",
        "    Return: \n",
        "        minimum number of operations required to convert seq_1 into seq_2\n",
        "    '''\n",
        "    # YOUR CODE HERE\n",
        "\n",
        "    distance = []\n",
        "    for i in range(seq_1_len+1):\n",
        "        rows = []\n",
        "        for j in range(seq_2_len+1):\n",
        "            if j == 0:\n",
        "                rows.append(i)\n",
        "            elif i == 0:\n",
        "                rows.append(j)\n",
        "            else:\n",
        "                rows.append(0)\n",
        "        distance.append(rows)\n",
        "\n",
        "    for i in range(1, seq_1_len + 1):\n",
        "        for j in range(1, seq_2_len + 1):\n",
        "            if seq_1[i-1] == seq_2[j-1]:\n",
        "                distance[i][j] = distance[i-1][j-1]\n",
        "            else:\n",
        "                distance[i][j] = 1 + min(distance[i][j-1], distance[i-1][j], distance[i-1][j-1])\n",
        "\n",
        "    return distance[seq_1_len][seq_2_len]\n",
        "    # return distance\n",
        "    #raise NotImplementedError(\"error\")\n",
        "\n",
        "seq_X = \"SUNDAY\"\n",
        "seq_Y = \"SATURDAY\"\n",
        "levenshtein_distance(seq_X , seq_Y, len(seq_X), len(seq_Y))"
      ]
    },
    {
      "cell_type": "code",
      "execution_count": 18,
      "id": "msg5gNxfK8lc",
      "metadata": {
        "id": "msg5gNxfK8lc"
      },
      "outputs": [],
      "source": [
        "seq_X = \"SUNDAY\"\n",
        "seq_Y = \"SATURDAY\""
      ]
    },
    {
      "cell_type": "code",
      "execution_count": 19,
      "id": "SaBu9tsgK9CM",
      "metadata": {
        "id": "SaBu9tsgK9CM"
      },
      "outputs": [],
      "source": [
        "assert levenshtein_distance(seq_X , seq_Y, len(seq_X), len(seq_Y)) == 3"
      ]
    },
    {
      "cell_type": "code",
      "execution_count": 20,
      "id": "63121835",
      "metadata": {},
      "outputs": [],
      "source": [
        "test_seq_1 = \"GOAT\"\n",
        "test_seq_2 = \"GET\"\n",
        "assert levenshtein_distance(test_seq_1, test_seq_2, len(test_seq_1), len(test_seq_2)) == 2\n",
        "# levenshtein_distance(test_seq_1, test_seq_2, len(test_seq_1), len(test_seq_2))\n",
        "\n",
        "test_seq_3 = \"CAT\"\n",
        "test_seq_4 = \"CUT\"\n",
        "assert levenshtein_distance(test_seq_3, test_seq_4, len(test_seq_3), len(test_seq_4)) == 1\n",
        "# levenshtein_distance(test_seq_3, test_seq_4, len(test_seq_3), len(test_seq_4))"
      ]
    }
  ],
  "metadata": {
    "colab": {
      "provenance": []
    },
    "kernelspec": {
      "display_name": "Python 3",
      "language": "python",
      "name": "python3"
    },
    "language_info": {
      "codemirror_mode": {
        "name": "ipython",
        "version": 3
      },
      "file_extension": ".py",
      "mimetype": "text/x-python",
      "name": "python",
      "nbconvert_exporter": "python",
      "pygments_lexer": "ipython3",
      "version": "3.8.10"
    }
  },
  "nbformat": 4,
  "nbformat_minor": 5
}
