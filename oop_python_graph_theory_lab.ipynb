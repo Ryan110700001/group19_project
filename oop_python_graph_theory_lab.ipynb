{
  "cells": [
    {
      "cell_type": "markdown",
      "metadata": {
        "id": "1ca6105e"
      },
      "source": [
        "Before you turn this problem in, make sure everything runs as expected. First, **restart the kernel** (in the menubar, select Kernel$\\rightarrow$Restart) and then **run all cells** (in the menubar, select Cell$\\rightarrow$Run All).\n",
        "\n",
        "Make sure you fill in any place that says `YOUR CODE HERE` or \"YOUR ANSWER HERE\", as well as your name and collaborators below:"
      ]
    },
    {
      "cell_type": "code",
      "execution_count": null,
      "metadata": {
        "id": "91784b44"
      },
      "outputs": [],
      "source": [
        "NAME = \"311352004童政瑜\"\n",
        "COLLABORATORS = \"\""
      ]
    },
    {
      "cell_type": "markdown",
      "metadata": {
        "id": "Y3getm8fLXQQ"
      },
      "source": [
        "###  <h2>Exercise 1: DFS <h2>\n"
      ]
    },
    {
      "cell_type": "code",
      "execution_count": 1,
      "metadata": {
        "id": "BsZLpjp7MYem"
      },
      "outputs": [],
      "source": [
        "class Node:\n",
        "    \"\"\"Represents a node in a graph.\"\"\"\n",
        "    def __init__(self, name):\n",
        "        \"\"\"Assumes name is a string.\"\"\"\n",
        "        self.name = name\n",
        "        self.neighbors = set()\n",
        "\n",
        "    def get_name(self):\n",
        "        return self.name\n",
        "\n",
        "    def __str__(self):\n",
        "        return self.name\n",
        "\n",
        "    def add_neighbor(self, neighbor):\n",
        "        self.neighbors.add(neighbor)\n",
        "\n",
        "# class Edge:\n",
        "#     \"\"\"Represents a directed edge in a graph.\"\"\"\n",
        "#     def __init__(self, src, dest):\n",
        "#         \"\"\"Assumes src and dest are nodes.\"\"\"\n",
        "#         self.src = src\n",
        "#         self.dest = dest\n",
        "\n",
        "#     def get_source(self):\n",
        "#         return self.src\n",
        "\n",
        "#     def get_destination(self):\n",
        "#         return self.dest\n",
        "\n",
        "#     def __str__(self):\n",
        "#         return self.src.get_name() + '->' + self.dest.get_name()\n",
        "    \n",
        "class Graph:\n",
        "    def __init__(self):\n",
        "        self.nodes = {}\n",
        "\n",
        "    def add_node(self, node_name):\n",
        "        node = Node(node_name)\n",
        "        self.nodes[node_name] = node\n",
        "\n",
        "    def add_edge(self, node_name_1, node_name_2):\n",
        "        self.nodes[node_name_1].add_neighbor(node_name_2)\n",
        "        self.nodes[node_name_2].add_neighbor(node_name_1)\n",
        "\n",
        "    def __getitem__(self, node):\n",
        "        return self.nodes[node]\n",
        "\n",
        "def graph_setup(node_list, adjacency_matrix):\n",
        "    '''\n",
        "    graph_setup(): An function for graph structure\n",
        "    Input argument:\n",
        "        node_list: A list of node with different name (type: list of string)\n",
        "        adjacency_matrix: A 2-d matrix about the vertice's connetion (type: list of list)\n",
        "    Return: \n",
        "        Your customized graph structure (type: arbitrary)\n",
        "    '''\n",
        "    # YOUR CODE HERE\n",
        "    graph = Graph()\n",
        "    \n",
        "    for node_name in node_list:\n",
        "        graph.add_node(node_name)\n",
        "    \n",
        "    for i in range(len(node_list)):\n",
        "        for j in range(len(node_list)):\n",
        "            if adjacency_matrix[i][j] == 1:\n",
        "                node_name_1 = node_list[i]\n",
        "                node_name_2 = node_list[j]\n",
        "                graph.add_edge(node_name_1, node_name_2)\n",
        "    \n",
        "    return graph\n",
        "    "
      ]
    },
    {
      "cell_type": "code",
      "execution_count": 2,
      "metadata": {
        "id": "e9ymgNOmOCGz"
      },
      "outputs": [
        {
          "name": "stdout",
          "output_type": "stream",
          "text": [
            "A: F\n",
            "B: F, D, C\n",
            "C: B\n",
            "D: B\n",
            "E: \n",
            "F: A, B\n"
          ]
        }
      ],
      "source": [
        "node_list = [\"A\", \"B\", \"C\", \"D\", \"E\", \"F\"]\n",
        "# 0 implies unconnected, 1 implies connected\n",
        "adjacency_matrix = [\n",
        "    [0, 0, 0, 0, 0, 1],\n",
        "    [0, 0, 1, 1, 0, 1],\n",
        "    [0, 1, 0, 0, 0, 0],\n",
        "    [0, 1, 0, 0, 0, 0],\n",
        "    [0, 0, 0, 0, 0, 0],\n",
        "    [1, 1, 0, 0, 0, 0]\n",
        "]\n",
        "\n",
        "def print_graph(graph):\n",
        "    '''\n",
        "    print_graph(): A function to print the graph structure\n",
        "    Input argument:\n",
        "        graph: Your customized graph structure (type: Graph)\n",
        "    '''\n",
        "    for node_name in graph.nodes:\n",
        "        node = graph.nodes[node_name]\n",
        "        neighbor_names = [n for n in node.neighbors]\n",
        "        print(f\"{node_name}: {', '.join(neighbor_names)}\")\n",
        "\n",
        "graph = graph_setup(node_list, adjacency_matrix)\n",
        "\n",
        "print_graph(graph)"
      ]
    },
    {
      "cell_type": "code",
      "execution_count": 3,
      "id": "1ed825ff",
      "metadata": {},
      "outputs": [],
      "source": [
        "def graph_setup(node_list, adjacency_matrix):\n",
        "    '''\n",
        "    graph_setup(): An function for graph structure\n",
        "    Input argument:\n",
        "        node_list: A list of node with different name (type: list of string)\n",
        "        adjacency_matrix: A 2-d matrix about the vertice's connetion (type: list of list)\n",
        "    Return: \n",
        "        Your customized graph structure (type: arbitrary)\n",
        "    '''\n",
        "    graph = {}\n",
        "    for i in range(len(node_list)):\n",
        "        nodes = node_list[i]\n",
        "        connections = []\n",
        "\n",
        "        for j in range(len(adjacency_matrix[i])):\n",
        "            if adjacency_matrix[i][j] == 1:\n",
        "                connections.append(node_list[j])\n",
        "        graph[nodes] = connections\n",
        "\n",
        "    return graph\n",
        "\n",
        "\n",
        "def dfs(graph, start_node, dest_node, seen=None, cost=0):\n",
        "    '''\n",
        "    dfs(): Depth First Search\n",
        "    Input argument:\n",
        "        graph: An arbitrary which can describe your graph structure properly (type: arbitrary)\n",
        "        start_node: The vertex where dfs start (type: string)\n",
        "        dest_node: The vertex where dfs end (type: string)    \n",
        "    Return: \n",
        "        Minimum cost (type: int) / -1 when the destination is unreachable (type: int)\n",
        "    '''\n",
        "    \n",
        "    if start_node == dest_node:\n",
        "        return cost\n",
        "    \n",
        "    if seen is None:\n",
        "        seen = set()\n",
        "    seen.add(start_node)\n",
        "    \n",
        "    for neighbor in graph[start_node]:\n",
        "        if neighbor not in seen:\n",
        "            result = dfs(graph, neighbor, dest_node, seen, cost+1)\n",
        "            if result != -1:\n",
        "                return result\n",
        "\n",
        "    return -1\n",
        "\n",
        "\n",
        "node_list = [\"A\", \"B\", \"C\", \"D\", \"E\", \"F\"]\n",
        "# 0 implies unconnected, 1 implies connected\n",
        "adjacency_matrix = [\n",
        "    [0, 0, 0, 0, 0, 1],\n",
        "    [0, 0, 1, 1, 0, 1],\n",
        "    [0, 1, 0, 0, 0, 0],\n",
        "    [0, 1, 0, 0, 0, 0],\n",
        "    [0, 0, 0, 0, 0, 0],\n",
        "    [1, 1, 0, 0, 0, 0]\n",
        "]"
      ]
    },
    {
      "cell_type": "code",
      "execution_count": 4,
      "metadata": {
        "id": "UHU7RYxLO0Nu"
      },
      "outputs": [],
      "source": [
        "graph = graph_setup(node_list, adjacency_matrix)\n",
        "# print(graph)"
      ]
    },
    {
      "cell_type": "code",
      "execution_count": 5,
      "metadata": {
        "id": "e5NWMuXySRWG"
      },
      "outputs": [],
      "source": [
        "cost = dfs(graph, \"D\", \"A\")\n",
        "assert cost == 3"
      ]
    },
    {
      "cell_type": "code",
      "execution_count": 6,
      "metadata": {
        "id": "O1eGUzy0SSNs"
      },
      "outputs": [],
      "source": [
        "cost = dfs(graph, \"C\", \"A\")\n",
        "assert cost == 3"
      ]
    },
    {
      "cell_type": "code",
      "execution_count": 7,
      "metadata": {
        "id": "1MD5t9sOVdga"
      },
      "outputs": [],
      "source": [
        "cost = dfs(graph, \"C\", \"E\")\n",
        "assert cost == -1"
      ]
    },
    {
      "cell_type": "markdown",
      "metadata": {
        "id": "E_g91iYFSZrZ"
      },
      "source": [
        "###  <h2>Exercise 2: shortest path with positive edge weighting <h2>\n"
      ]
    },
    {
      "cell_type": "code",
      "execution_count": 8,
      "metadata": {
        "id": "pOFdiBT4Sn7Z"
      },
      "outputs": [],
      "source": [
        "def graph_setup(node_list, adjacency_matrix):\n",
        "    '''\n",
        "    graph_setup(): An function for graph structure\n",
        "    Input argument:\n",
        "        node_list: A list of node with different name (type: list of string)\n",
        "        adjacency_matrix: A 2-d matrix about the edges's cost and vertice's connection (type: list of list)\n",
        "    Return: \n",
        "        Your customized graph structure (type: arbitrary)\n",
        "    '''\n",
        "    # YOUR CODE HERE\n",
        "    graph = {}\n",
        "    for i in range(len(node_list)):\n",
        "        nodes = node_list[i]\n",
        "        connections = [[]]\n",
        "\n",
        "        for j in range(len(adjacency_matrix[i])):\n",
        "            if adjacency_matrix[i][j] > 0:\n",
        "                connections[0].append(node_list[j])\n",
        "                connections.append({node_list[j]:adjacency_matrix[i][j]})\n",
        "        graph[nodes] = connections\n",
        "\n",
        "    return graph"
      ]
    },
    {
      "cell_type": "code",
      "execution_count": 9,
      "metadata": {
        "id": "HM9ZngLtS4HG"
      },
      "outputs": [],
      "source": [
        "def shortest_path(graph, start_node, dest_node, seen=None, path=None, cost=0):\n",
        "    '''\n",
        "    shortest_path(): Shortest path searching which consider edge weighting\n",
        "    Input argument:\n",
        "        graph: An arbitrary which can describe your graph structure properly (type: arbitrary)\n",
        "        start_node: The vertex where dfs start (type: string)\n",
        "        dest_node: The vertex where dfs end (type: string)\n",
        "    \n",
        "    Return: \n",
        "        Minimum cost (type: int) and your path (type: list of string) / -1 when the destination is unreachable (type: int) and a null list\n",
        "    '''\n",
        "    # YOUR CODE HERE\n",
        "    if start_node == dest_node:\n",
        "        return cost\n",
        "    \n",
        "    if seen is None:\n",
        "        seen = set()\n",
        "    seen.add(start_node)\n",
        "\n",
        "    if path is None:\n",
        "        path = []\n",
        "        path.append(start_node)\n",
        "    \n",
        "    for neighbor in graph[start_node][0]:\n",
        "        weight_list = []\n",
        "        count = 0\n",
        "        if neighbor not in seen:\n",
        "            count += 1\n",
        "            # for i in range(1,len(graph[start_node])):\n",
        "\n",
        "            # min_cost = min(graph[start_node][neighbor])\n",
        "            path.append(neighbor)\n",
        "            print(neighbor)\n",
        "            result = shortest_path(graph, neighbor, dest_node, seen, path, cost+graph[start_node][count][neighbor])\n",
        "            \n",
        "            if result != -1:\n",
        "                return result, path\n",
        "\n",
        "    return -1, None"
      ]
    },
    {
      "cell_type": "code",
      "execution_count": 10,
      "id": "ae629db1",
      "metadata": {},
      "outputs": [
        {
          "name": "stdout",
          "output_type": "stream",
          "text": [
            "['B']\n"
          ]
        }
      ],
      "source": [
        "print(graph[\"C\"])"
      ]
    },
    {
      "cell_type": "code",
      "execution_count": 11,
      "metadata": {
        "id": "r2YvagptTO0U"
      },
      "outputs": [],
      "source": [
        "node_list = [\"A\", \"B\", \"C\", \"D\", \"E\", \"F\"]\n",
        "# -1 implies unconnected, the other non-negative integers imply connected edge cost\n",
        "adjacency_matrix = [\n",
        "    [-1, 9, 15, -1, -1, -1],\n",
        "    [9, -1, 2, 6, 4, -1],\n",
        "    [6, -1, -1, -1, -1, -1],\n",
        "    [-1, 7, -1, -1, -1, -1],\n",
        "    [-1, -1, -1, 23, -1, -1],\n",
        "    [-1, 2, -1, -1, 8, -1]\n",
        "]"
      ]
    },
    {
      "cell_type": "code",
      "execution_count": 12,
      "metadata": {
        "id": "QPONbnp4TO0V"
      },
      "outputs": [
        {
          "name": "stdout",
          "output_type": "stream",
          "text": [
            "{'A': [['B', 'C'], {'B': 9}, {'C': 15}], 'B': [['A', 'C', 'D', 'E'], {'A': 9}, {'C': 2}, {'D': 6}, {'E': 4}], 'C': [['A'], {'A': 6}], 'D': [['B'], {'B': 7}], 'E': [['D'], {'D': 23}], 'F': [['B', 'E'], {'B': 2}, {'E': 8}]}\n"
          ]
        }
      ],
      "source": [
        "graph = graph_setup(node_list, adjacency_matrix)\n",
        "print(graph)"
      ]
    },
    {
      "cell_type": "code",
      "execution_count": 13,
      "metadata": {
        "id": "oqbyLoCCTO0V"
      },
      "outputs": [
        {
          "name": "stdout",
          "output_type": "stream",
          "text": [
            "B\n",
            "A\n",
            "(16, ['D', 'B', 'A'])\n",
            "['D', 'B', 'A']\n"
          ]
        }
      ],
      "source": [
        "cost, path = shortest_path(graph, \"D\", \"A\")\n",
        "print(cost)\n",
        "print(path)\n",
        "# assert cost == 16"
      ]
    },
    {
      "cell_type": "code",
      "execution_count": 14,
      "metadata": {
        "id": "_Ju2tm-xTO0V"
      },
      "outputs": [
        {
          "name": "stdout",
          "output_type": "stream",
          "text": [
            "A\n",
            "B\n",
            "D\n"
          ]
        },
        {
          "ename": "KeyError",
          "evalue": "'D'",
          "output_type": "error",
          "traceback": [
            "\u001b[0;31m---------------------------------------------------------------------------\u001b[0m",
            "\u001b[0;31mKeyError\u001b[0m                                  Traceback (most recent call last)",
            "Cell \u001b[0;32mIn[14], line 1\u001b[0m\n\u001b[0;32m----> 1\u001b[0m cost, path \u001b[39m=\u001b[39m shortest_path(graph, \u001b[39m\"\u001b[39;49m\u001b[39mC\u001b[39;49m\u001b[39m\"\u001b[39;49m, \u001b[39m\"\u001b[39;49m\u001b[39mE\u001b[39;49m\u001b[39m\"\u001b[39;49m)\n\u001b[1;32m      2\u001b[0m \u001b[39mprint\u001b[39m(cost)\n\u001b[1;32m      3\u001b[0m \u001b[39mprint\u001b[39m(path)\n",
            "Cell \u001b[0;32mIn[9], line 34\u001b[0m, in \u001b[0;36mshortest_path\u001b[0;34m(graph, start_node, dest_node, seen, path, cost)\u001b[0m\n\u001b[1;32m     32\u001b[0m path\u001b[39m.\u001b[39mappend(neighbor)\n\u001b[1;32m     33\u001b[0m \u001b[39mprint\u001b[39m(neighbor)\n\u001b[0;32m---> 34\u001b[0m result \u001b[39m=\u001b[39m shortest_path(graph, neighbor, dest_node, seen, path, cost\u001b[39m+\u001b[39;49mgraph[start_node][count][neighbor])\n\u001b[1;32m     36\u001b[0m \u001b[39mif\u001b[39;00m result \u001b[39m!=\u001b[39m \u001b[39m-\u001b[39m\u001b[39m1\u001b[39m:\n\u001b[1;32m     37\u001b[0m     \u001b[39mreturn\u001b[39;00m result, path\n",
            "Cell \u001b[0;32mIn[9], line 34\u001b[0m, in \u001b[0;36mshortest_path\u001b[0;34m(graph, start_node, dest_node, seen, path, cost)\u001b[0m\n\u001b[1;32m     32\u001b[0m path\u001b[39m.\u001b[39mappend(neighbor)\n\u001b[1;32m     33\u001b[0m \u001b[39mprint\u001b[39m(neighbor)\n\u001b[0;32m---> 34\u001b[0m result \u001b[39m=\u001b[39m shortest_path(graph, neighbor, dest_node, seen, path, cost\u001b[39m+\u001b[39;49mgraph[start_node][count][neighbor])\n\u001b[1;32m     36\u001b[0m \u001b[39mif\u001b[39;00m result \u001b[39m!=\u001b[39m \u001b[39m-\u001b[39m\u001b[39m1\u001b[39m:\n\u001b[1;32m     37\u001b[0m     \u001b[39mreturn\u001b[39;00m result, path\n",
            "Cell \u001b[0;32mIn[9], line 34\u001b[0m, in \u001b[0;36mshortest_path\u001b[0;34m(graph, start_node, dest_node, seen, path, cost)\u001b[0m\n\u001b[1;32m     32\u001b[0m path\u001b[39m.\u001b[39mappend(neighbor)\n\u001b[1;32m     33\u001b[0m \u001b[39mprint\u001b[39m(neighbor)\n\u001b[0;32m---> 34\u001b[0m result \u001b[39m=\u001b[39m shortest_path(graph, neighbor, dest_node, seen, path, cost\u001b[39m+\u001b[39mgraph[start_node][count][neighbor])\n\u001b[1;32m     36\u001b[0m \u001b[39mif\u001b[39;00m result \u001b[39m!=\u001b[39m \u001b[39m-\u001b[39m\u001b[39m1\u001b[39m:\n\u001b[1;32m     37\u001b[0m     \u001b[39mreturn\u001b[39;00m result, path\n",
            "\u001b[0;31mKeyError\u001b[0m: 'D'"
          ]
        }
      ],
      "source": [
        "cost, path = shortest_path(graph, \"C\", \"E\")\n",
        "print(cost)\n",
        "print(path)\n",
        "# assert cost == 19"
      ]
    }
  ],
  "metadata": {
    "colab": {
      "provenance": []
    },
    "kernelspec": {
      "display_name": "Python 3",
      "language": "python",
      "name": "python3"
    },
    "language_info": {
      "codemirror_mode": {
        "name": "ipython",
        "version": 3
      },
      "file_extension": ".py",
      "mimetype": "text/x-python",
      "name": "python",
      "nbconvert_exporter": "python",
      "pygments_lexer": "ipython3",
      "version": "3.8.10"
    }
  },
  "nbformat": 4,
  "nbformat_minor": 5
}
